{
 "cells": [
  {
   "cell_type": "markdown",
   "metadata": {},
   "source": [
    "# Annotations of Creteil pictures"
   ]
  },
  {
   "cell_type": "code",
   "execution_count": 1,
   "metadata": {},
   "outputs": [],
   "source": [
    "%load_ext autoreload\n",
    "%autoreload 0\n",
    "%autoreload 2"
   ]
  },
  {
   "cell_type": "code",
   "execution_count": 2,
   "metadata": {},
   "outputs": [],
   "source": [
    "import os\n",
    "import benchmark_tools as bt\n",
    "from tqdm import tqdm\n",
    "import datetime\n",
    "import pandas as pd"
   ]
  },
  {
   "cell_type": "markdown",
   "metadata": {},
   "source": [
    "Get the annotations-set instance"
   ]
  },
  {
   "cell_type": "code",
   "execution_count": 2,
   "metadata": {},
   "outputs": [],
   "source": [
    "annotations_path = os.path.join(os.getcwd(),\"annotations\",\"creteil\")\n",
    "ans = bt.creteil.get_annotations_set(annotations_path)"
   ]
  },
  {
   "cell_type": "markdown",
   "metadata": {},
   "source": [
    "Get the annotation corresponding to picture 545"
   ]
  },
  {
   "cell_type": "code",
   "execution_count": 3,
   "metadata": {},
   "outputs": [
    {
     "data": {
      "text/plain": [
       "AST annotation : 545\n",
       "species : Pseudomonas aeruginosa\n",
       "sample type : None\n",
       "sample date : 18/12/2017\n",
       "tested atbs: 17"
      ]
     },
     "execution_count": 3,
     "metadata": {},
     "output_type": "execute_result"
    }
   ],
   "source": [
    "ans[545]"
   ]
  },
  {
   "cell_type": "markdown",
   "metadata": {},
   "source": [
    "### Get the results as Pandas DataFrame"
   ]
  },
  {
   "cell_type": "code",
   "execution_count": 4,
   "metadata": {},
   "outputs": [
    {
     "data": {
      "text/html": [
       "<div>\n",
       "<style scoped>\n",
       "    .dataframe tbody tr th:only-of-type {\n",
       "        vertical-align: middle;\n",
       "    }\n",
       "\n",
       "    .dataframe tbody tr th {\n",
       "        vertical-align: top;\n",
       "    }\n",
       "\n",
       "    .dataframe thead th {\n",
       "        text-align: right;\n",
       "    }\n",
       "</style>\n",
       "<table border=\"1\" class=\"dataframe\">\n",
       "  <thead>\n",
       "    <tr style=\"text-align: right;\">\n",
       "      <th></th>\n",
       "      <th>diam</th>\n",
       "      <th>sir</th>\n",
       "    </tr>\n",
       "  </thead>\n",
       "  <tbody>\n",
       "    <tr>\n",
       "      <th>PENICILLINE G 1U</th>\n",
       "      <td>NaN</td>\n",
       "      <td>NaN</td>\n",
       "    </tr>\n",
       "    <tr>\n",
       "      <th>OXACILLINE 1µg</th>\n",
       "      <td>NaN</td>\n",
       "      <td>NaN</td>\n",
       "    </tr>\n",
       "    <tr>\n",
       "      <th>AMPICILLINE 2µg</th>\n",
       "      <td>NaN</td>\n",
       "      <td>NaN</td>\n",
       "    </tr>\n",
       "    <tr>\n",
       "      <th>AMOXICILLINE 20µg</th>\n",
       "      <td>6</td>\n",
       "      <td>R</td>\n",
       "    </tr>\n",
       "    <tr>\n",
       "      <th>AMOXICILLINE + AC.CLAVULANIQUE 20-10µg</th>\n",
       "      <td>6</td>\n",
       "      <td>R</td>\n",
       "    </tr>\n",
       "  </tbody>\n",
       "</table>\n",
       "</div>"
      ],
      "text/plain": [
       "                                       diam  sir\n",
       "PENICILLINE G 1U                        NaN  NaN\n",
       "OXACILLINE 1µg                          NaN  NaN\n",
       "AMPICILLINE 2µg                         NaN  NaN\n",
       "AMOXICILLINE 20µg                         6    R\n",
       "AMOXICILLINE + AC.CLAVULANIQUE 20-10µg    6    R"
      ]
     },
     "execution_count": 4,
     "metadata": {},
     "output_type": "execute_result"
    }
   ],
   "source": [
    "ans[545].results.head()"
   ]
  },
  {
   "cell_type": "markdown",
   "metadata": {},
   "source": [
    "### access atb_names, sir, diameters ..."
   ]
  },
  {
   "cell_type": "code",
   "execution_count": 5,
   "metadata": {},
   "outputs": [
    {
     "data": {
      "text/plain": [
       "[('PENICILLINE G 1U', nan, nan),\n",
       " ('OXACILLINE 1µg', nan, nan),\n",
       " ('AMPICILLINE 2µg', nan, nan),\n",
       " ('AMOXICILLINE 20µg', '6', 'R'),\n",
       " ('AMOXICILLINE + AC.CLAVULANIQUE 20-10µg', '6', 'R')]"
      ]
     },
     "execution_count": 5,
     "metadata": {},
     "output_type": "execute_result"
    }
   ],
   "source": [
    "an = ans[545]\n",
    "list(zip(\n",
    "  an.atb_names[:5],\n",
    "  an.diameters[:5],\n",
    "  an.sir_values[:5]\n",
    "))"
   ]
  },
  {
   "cell_type": "code",
   "execution_count": 9,
   "metadata": {},
   "outputs": [
    {
     "name": "stdout",
     "output_type": "stream",
     "text": [
      "500 Citrobacter werkmanii\n",
      "501 Citrobacter werkmanii\n",
      "502 Citrobacter werkmanii\n",
      "503 Citrobacter werkmanii\n",
      "504 Citrobacter werkmanii\n",
      "505 Citrobacter werkmanii\n",
      "506 Comamonas sp\n",
      "507 Comamonas sp\n",
      "508 Enterobacter aerogenes\n",
      "509 Enterobacter aerogenes\n"
     ]
    }
   ],
   "source": [
    "for an in ans[500:510]:\n",
    "  print(an.ast_id, an.species)"
   ]
  },
  {
   "cell_type": "markdown",
   "metadata": {},
   "source": [
    "### antibiotic level access\n",
    "single antibiotics data can be accessed with `[antibiotic-name]`"
   ]
  },
  {
   "cell_type": "code",
   "execution_count": 7,
   "metadata": {},
   "outputs": [
    {
     "name": "stdout",
     "output_type": "stream",
     "text": [
      "CEFTAZIDIME 10µg\n",
      "diameter: 6\n",
      "SIR: R\n"
     ]
    }
   ],
   "source": [
    "an =  ans[545]\n",
    "atb = \"CEFTAZIDIME 10µg\"\n",
    "sir = an[atb].sir\n",
    "diam = an[atb].diam\n",
    "\n",
    "print(atb)\n",
    "print(\"diameter:\", diam)\n",
    "print(\"SIR:\", sir)"
   ]
  },
  {
   "cell_type": "markdown",
   "metadata": {},
   "source": [
    "## Generate an ASTscript from an annotation\n",
    "ASTscript can be generated with a specific function"
   ]
  },
  {
   "cell_type": "code",
   "execution_count": 38,
   "metadata": {},
   "outputs": [
    {
     "name": "stdout",
     "output_type": "stream",
     "text": [
      "AST annotation : 11634\n",
      "species : Streptococcus mitis\n",
      "sample type : None\n",
      "sample date : 11/08/2019\n",
      "tested atbs: 20\n",
      "# ASTscript automatically generated from annotations\n",
      "# script creation date : 18/12/2019\n",
      "# sample date : 11/08/2019\n",
      "\n",
      "SPECIES : Streptococcus mitis\n",
      "\n",
      "STATUS_IN : Induction, NON\n",
      "STATUS_OUT : Entérocoques et Glycopeptides, Sensible\n",
      "\n",
      "ATB : PENICILLINE G 1U, 10, NA, NA, CMI\n",
      "ATB : OXACILLINE 1µg, 6, NA, NA, PASVAL\n",
      "ATB : AMPICILLINE 2µg, 10, NA, NA, PASVAL\n",
      "ATB : CEFOTAXIME 5µg, 29, NA, NA, CMI\n",
      "ATB : STREPTOMYCINE 300µg, 28, NA, NA, S\n",
      "ATB : GENTAMICINE 30µG, 22, NA, NA, S\n",
      "ATB : GENTAMICINE 500µg, 32, NA, NA, S\n",
      "ATB : NORFLOXACINE 10µg, 9, NA, NA, PASVAL\n",
      "ATB : LEVOFLOXACINE 5µg, 21, NA, NA, PASVAL\n",
      "ATB : MOXIFLOXACINE 5µg, 27, NA, NA, S\n",
      "ATB : TRIMETHOPRIME + SULFAMIDES 1.25-23.75µg, 11, NA, NA, R\n",
      "ATB : ERYTHROMYCINE 15µg, 19, NA, NA, R\n",
      "ATB : LINCOMYCINE 15µg, 31, NA, NA, S\n",
      "ATB : PRISTINAMYCINE 15µg, 32, NA, NA, S\n",
      "ATB : LINEZOLIDE 10µg, 30, NA, NA, S\n",
      "ATB : RIFAMPICINE 5µg, 32, NA, NA, S\n",
      "ATB : TETRACYCLINE 30µg, 11, NA, NA, R\n",
      "ATB : TIGECYCLINE 15µg, 25, NA, NA, R\n",
      "ATB : VANCOMYCINE 5µg, 20, NA, NA, S\n",
      "ATB : TEICOPLANINE 30µg, 23, NA, NA, S\n"
     ]
    }
   ],
   "source": [
    "annotations_path_es_test = os.path.join(os.getcwd(),\"annotations\",\"creteil_es_test\")\n",
    "ans_es_test = bt.creteil_es_test.get_annotations_set(annotations_path_es_test)\n",
    "line=11634\n",
    "print(ans_es_test[line])\n",
    "print(bt.astscript.annotation_to_ASTscript(ans_es_test[line]))"
   ]
  },
  {
   "cell_type": "code",
   "execution_count": 64,
   "metadata": {},
   "outputs": [
    {
     "name": "stdout",
     "output_type": "stream",
     "text": [
      "2018/01/04\n"
     ]
    }
   ],
   "source": [
    "datetest = ans_es_test[1].sample_date\n",
    "print(datetime.datetime.strptime(datetest, '%d/%m/%Y').strftime('%Y/%m/%d'))"
   ]
  },
  {
   "cell_type": "code",
   "execution_count": null,
   "metadata": {},
   "outputs": [],
   "source": [
    "path = os.path.join(os.getcwd(),\"annotations\",\"creteil_es_test\",\"Extration_SIRscan_diametre_2018_2019.csv\")\n",
    "diam_df = pd.read_csv(path, sep=';', index_col=\"Numero_guilhem\", encoding='latin1', engine='python')\n",
    "diam_df = diam_df[diam_df[\"Germe (libellé)\"] != \"Germe (libellé)\"]\n",
    "#diam_df\n",
    "atb_names = diam_df.keys()[7:]\n",
    "ast_ids = list(diam_df.index)\n",
    "print(\"atb_names:\",atb_names, \"ast_ids:\", ast_ids)"
   ]
  },
  {
   "cell_type": "code",
   "execution_count": 4,
   "metadata": {},
   "outputs": [
    {
     "name": "stdout",
     "output_type": "stream",
     "text": [
      "SRI\n"
     ]
    }
   ],
   "source": [
    "path = os.path.join(os.getcwd(),\"annotations\",\"whonet_nada\",\"SRI_and_diameter_amman.xlsx\")\n",
    "xl = pd.ExcelFile(path)\n",
    "print(xl.sheet_names[1])\n",
    "# for name in xl.sheet_names:\n",
    "#     df = pd.read_excel(xl, name)\n",
    "#     atb_names = df.keys()[6:]\n",
    "#     ast_ids = list(df.index)\n",
    "#     print(\"name:\",name,\"atb_names:\",atb_names, \"ast_ids:\", ast_ids)"
   ]
  },
  {
   "cell_type": "code",
   "execution_count": 35,
   "metadata": {},
   "outputs": [
    {
     "name": "stdout",
     "output_type": "stream",
     "text": [
      "# ASTscript automatically generated from annotations\n",
      "# script creation date : 18/12/2019\n",
      "# sample date : 15/02/2018\n",
      "\n",
      "SPECIES : Escherichia coli\n",
      "SAMPLE : BONE\n",
      "\n",
      "ATB : AM2, 6, NA, R, NA\n",
      "ATB : AK30, 21, NA, S, NA\n",
      "ATB : AMC30, 21, NA, S, NA\n",
      "ATB : ATM30, 23, NA, I, NA\n",
      "ATB : CTX5, 12, NA, R, NA\n",
      "ATB : FOX30, 22, NA, S, NA\n",
      "ATB : CIP5, 6, NA, R, NA\n",
      "ATB : CN10, 21, NA, S, NA\n",
      "ATB : TIC75, 6, NA, R, NA\n",
      "ATB : TOB10, 20, NA, S, NA\n",
      "ATB : SXT25, 29, NA, S, NA\n",
      "ATB : CAZ10, 16, NA, R, NA\n",
      "ATB : FEP30, 23, NA, R, NA\n",
      "ATB : ETP10, 30, NA, S, NA\n",
      "ATB : TPZ36, 24, NA, S, NA\n",
      "ATB : CRO30, 14, NA, R, NA\n"
     ]
    }
   ],
   "source": [
    "annotations_path_whonet_nada = os.path.join(os.getcwd(),\"annotations\",\"whonet_nada\")\n",
    "ans_es_test = bt.whonet_nada.get_annotations_set(annotations_path_whonet_nada)\n",
    "#print(ans_es_test[10])\n",
    "print(bt.astscript.annotation_to_ASTscript(ans_es_test[15]))"
   ]
  },
  {
   "cell_type": "code",
   "execution_count": 39,
   "metadata": {},
   "outputs": [
    {
     "name": "stderr",
     "output_type": "stream",
     "text": [
      "100%|██████████| 11926/11926 [07:41<00:00, 25.85it/s]\n"
     ]
    }
   ],
   "source": [
    "## batch export of astscripts\n",
    "\n",
    "export_folder = os.path.join(annotations_path_es_test, \"ASTscripts\")\n",
    "for an in tqdm(ans_es_test):\n",
    "  #print(an)\n",
    "  s = bt.astscript.annotation_to_ASTscript(an)\n",
    "  sample_date = datetime.datetime.strptime(an.sample_date, '%d/%m/%Y').strftime('%Y/%m/%d').replace('/', '_')\n",
    "  sp = an.species.replace(' ', '_').replace('/', '_')\n",
    "  astid = str(an.ast_id).zfill(5)\n",
    "  with open( os.path.join(export_folder, f\"{sample_date}-{sp}-{astid}.ast\"),'w') as f:\n",
    "    f.write(s)"
   ]
  },
  {
   "cell_type": "markdown",
   "metadata": {},
   "source": [
    "## Antibiotic full names and acronyms"
   ]
  },
  {
   "cell_type": "code",
   "execution_count": 9,
   "metadata": {},
   "outputs": [],
   "source": [
    "from benchmark_tools import atb_names"
   ]
  },
  {
   "cell_type": "code",
   "execution_count": 10,
   "metadata": {},
   "outputs": [
    {
     "name": "stdout",
     "output_type": "stream",
     "text": [
      "['GLYCOP', 'TEC30', 'VA5', 'OP5', '5FC1', 'NY100', 'AMB100', 'FLU50', 'ISO', 'KTC50', 'ECO50', 'MCZ50', 'CLT50', 'CT50', 'PB300', 'B10', 'GMS', 'STS', 'ISP30', 'CN250', 'S10', 'CN500', 'K1000', 'NET10', 'SIS', 'AK30', 'DBK10', 'TOB10', 'PM', 'FY', 'N30', 'KAN30', 'SPT100', 'S300', 'CN10', 'TMP5', 'SXT25', 'ST300', 'F100', 'SYN15', 'VIR15', 'PT15', 'DA2', 'DA15', 'L15', 'C2', 'C30', 'MIN30', 'DOX30', 'OT', 'CH', 'TET30', 'LEV5', 'CIM', 'OFM', 'PEM', 'TRX', 'GRX', 'ROS', 'SPX5', 'LOM', 'ENX', 'CIP5', 'NOR10', 'OFX5', 'PEF5', 'PIR', 'FLM30', 'OA10', 'PI20', 'NA30', 'MUP5', 'O12', 'NV5', 'FF200', 'NTX30', 'MT2', 'MT3', 'MTR', 'FA10', 'RA5', 'AZM15', 'DIR', 'ROX', 'MID', 'JOS', 'SP100', 'OL', 'ERY15', 'ATM30', 'CZC20', 'CPD10', 'CFM5', 'CA1', 'CPS', 'CAL', 'CXS', 'MOX30', 'RCM', 'CCM', 'CPO30', 'FEP30', 'CMX', 'CZX', 'CFS30', 'CEP30', 'CAZ10', 'CRO30', 'CTX5', 'CFA', 'CFH', 'CXC', 'MAS', 'CTT30', 'CTM30', 'FOX30', 'CXM30', 'MA30', 'LOR10', 'CTZ', 'CEC30', 'CL30', 'CFR30', 'CTS', 'CED', 'CP', 'CAC', 'CD', 'CZ30', 'KF30', 'CBT30', 'MEM10', 'ICM', 'IPM10', 'MEC10', 'OX1', 'OX3', 'DOX', 'CX5', 'OX5', 'ME', 'TPZ36', 'PIS', 'PRL30', 'AZL', 'MEZ75', 'TIS', 'TIM85', 'TIC75', 'PY100', 'AM2', 'ACM', 'AMS', 'SAM20', 'AX20', 'AMC30', 'AM10', 'P2', 'PCM', 'P1', 'MXF5', 'TEL15', 'M16', 'FEM', 'CPM', 'VCM', 'TCM', 'VA5A', 'CT10', 'LNZ10', 'GAT5', 'AMI', 'LVC', 'GAC', 'MOC', 'ETP10', 'ECM', 'OXH', 'OXM', 'SUL', 'ITR50', 'MHC', 'AM-', 'AM+', 'DAP30', 'VOR1', 'TGC15', 'CSM', 'CTC15', 'CAZ30', 'CTX30', 'KS', 'FEC40', 'MM', 'CCL5', 'XCC', 'ZCL', 'ZCC', 'FEC', 'FCC', 'ICD', 'ACC', 'TCL', 'ATC', 'CLR15', 'DOR10', 'DOM', 'CXMC', 'CPC', 'CFC', 'FOM', 'TTM', 'CZM', 'AZC', 'ROM', 'EM', 'CLM', 'TELC', 'CMM', 'SPM', 'AMCC', 'TIGC', 'IMED', 'IMEDC', 'ERED', 'EREDC', 'ERCL', 'IMCLO', 'MECL', 'CFC40', 'CRL', 'RCL', 'TEM30', 'CPT5', 'DCL', 'AX25', 'TLV', 'AMCY', 'CN30', 'PME', 'AMM', 'AMP', 'AMC3', 'MME', 'RFB', 'PNM', 'MNM', 'PEV', 'CTC40', 'CCL30', 'CCC30', 'CAC30', 'CZC40', 'CAZCC3', 'PRL100', 'TPZ110', 'IMX10', 'CEF5', 'TZC', 'TCI', 'ASC', 'CXC15', 'VAC2', 'TEC2', 'APP', 'CTP', 'CAS', 'DLB', 'ORI', 'TZD', 'CFZ', 'CTNC', 'CFM10', 'F300', 'LNZ30', 'VA30', 'TE30U', 'PRL75', 'TPZ85', 'RA30', 'CZA14', 'SXTCC', 'FOSC', 'MICA', 'CAZC', 'CTNP', 'MEV', 'ERA', 'AMXO', 'AMXIV', 'AMCOR', 'AMCIV']\n"
     ]
    }
   ],
   "source": [
    "print(atb_names.i2a.short_names)"
   ]
  },
  {
   "cell_type": "code",
   "execution_count": 19,
   "metadata": {},
   "outputs": [
    {
     "data": {
      "text/plain": [
       "'AMC30'"
      ]
     },
     "execution_count": 19,
     "metadata": {},
     "output_type": "execute_result"
    }
   ],
   "source": [
    "atb_names.i2a.full2short('AMOXICILLINE + AC.CLAVULANIQUE 20-10µg')"
   ]
  },
  {
   "cell_type": "code",
   "execution_count": 11,
   "metadata": {},
   "outputs": [
    {
     "data": {
      "text/plain": [
       "'AMOXICILLINE + AC.CLAVULANIQUE 20-10µg'"
      ]
     },
     "execution_count": 11,
     "metadata": {},
     "output_type": "execute_result"
    }
   ],
   "source": [
    "atb_names.i2a.short2full(\"AMC30\")"
   ]
  },
  {
   "cell_type": "code",
   "execution_count": 12,
   "metadata": {},
   "outputs": [
    {
     "data": {
      "text/plain": [
       "'AMC30'"
      ]
     },
     "execution_count": 12,
     "metadata": {},
     "output_type": "execute_result"
    }
   ],
   "source": [
    "atb_names.amman.full2short(\"AMOXICILLIN/CLAVULANIC acid 30µg\")"
   ]
  },
  {
   "cell_type": "code",
   "execution_count": 13,
   "metadata": {},
   "outputs": [
    {
     "data": {
      "text/plain": [
       "'AMC'"
      ]
     },
     "execution_count": 13,
     "metadata": {},
     "output_type": "execute_result"
    }
   ],
   "source": [
    "atb_names.whonet.full2short(\"Amoxicillin/Clavulanic acid\")"
   ]
  },
  {
   "cell_type": "markdown",
   "metadata": {},
   "source": [
    "### whonet"
   ]
  },
  {
   "cell_type": "code",
   "execution_count": 14,
   "metadata": {},
   "outputs": [
    {
     "name": "stdout",
     "output_type": "stream",
     "text": [
      "CIP\n",
      "5\n"
     ]
    }
   ],
   "source": [
    "# get the whonet code and concentration as an object\n",
    "wn = atb_names.i2a.short2whonet_tuple('CIP5')\n",
    "print(wn.code)\n",
    "print(wn.concentration)"
   ]
  },
  {
   "cell_type": "code",
   "execution_count": 15,
   "metadata": {},
   "outputs": [
    {
     "data": {
      "text/plain": [
       "'CIP5'"
      ]
     },
     "execution_count": 15,
     "metadata": {},
     "output_type": "execute_result"
    }
   ],
   "source": [
    "# get the whonet code and concentration as string\n",
    "atb_names.i2a.short2whonet('CIP5')"
   ]
  },
  {
   "cell_type": "code",
   "execution_count": 16,
   "metadata": {},
   "outputs": [
    {
     "data": {
      "text/plain": [
       "'CN10'"
      ]
     },
     "execution_count": 16,
     "metadata": {},
     "output_type": "execute_result"
    }
   ],
   "source": [
    "atb_names.i2a.whonet_code2short('GEN')"
   ]
  },
  {
   "cell_type": "markdown",
   "metadata": {},
   "source": [
    "# some basic tests\n",
    "pytest must be installed for the current python interpreter"
   ]
  },
  {
   "cell_type": "code",
   "execution_count": 18,
   "metadata": {},
   "outputs": [
    {
     "name": "stdout",
     "output_type": "stream",
     "text": [
      "\u001b[1m============================= test session starts ==============================\u001b[0m\n",
      "platform darwin -- Python 3.6.8, pytest-5.0.1, py-1.8.0, pluggy-0.12.0\n",
      "rootdir: /Users/marco/Dev/ASTapp/mobile_app/improc\n",
      "collected 3 items                                                              \u001b[0m\u001b[1m\n",
      "\n",
      "test_benchmark_tools.py \u001b[32m.\u001b[0m\u001b[32m.\u001b[0m\u001b[32m.\u001b[0m\u001b[36m                                              [100%]\u001b[0m\n",
      "\n",
      "\u001b[32m\u001b[1m=========================== 3 passed in 0.77 seconds ===========================\u001b[0m\n"
     ]
    }
   ],
   "source": [
    "!pytest test_benchmark_tools.py"
   ]
  }
 ],
 "metadata": {
  "kernelspec": {
   "display_name": "Python 3",
   "language": "python",
   "name": "python3"
  },
  "language_info": {
   "codemirror_mode": {
    "name": "ipython",
    "version": 3
   },
   "file_extension": ".py",
   "mimetype": "text/x-python",
   "name": "python",
   "nbconvert_exporter": "python",
   "pygments_lexer": "ipython3",
   "version": "3.7.4"
  }
 },
 "nbformat": 4,
 "nbformat_minor": 4
}
