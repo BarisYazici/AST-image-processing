{
 "cells": [
  {
   "cell_type": "code",
   "execution_count": 53,
   "metadata": {},
   "outputs": [
    {
     "name": "stdout",
     "output_type": "stream",
     "text": [
      "The autoreload extension is already loaded. To reload it, use:\n",
      "  %reload_ext autoreload\n"
     ]
    }
   ],
   "source": [
    "%load_ext autoreload\n",
    "%autoreload 0\n",
    "%autoreload 2"
   ]
  },
  {
   "cell_type": "code",
   "execution_count": 54,
   "metadata": {},
   "outputs": [],
   "source": [
    "import benchmark\n",
    "import matplotlib.pyplot as plt\n",
    "import numpy as np"
   ]
  },
  {
   "cell_type": "code",
   "execution_count": 55,
   "metadata": {},
   "outputs": [
    {
     "name": "stdout",
     "output_type": "stream",
     "text": [
      "Running in parallel on 4 processes\n"
     ]
    },
    {
     "name": "stderr",
     "output_type": "stream",
     "text": [
      "100%|██████████| 8/8 [01:07<00:00,  8.47s/it]"
     ]
    },
    {
     "name": "stdout",
     "output_type": "stream",
     "text": [
      "Running in parallel on 4 processes\n"
     ]
    },
    {
     "name": "stderr",
     "output_type": "stream",
     "text": [
      "\n",
      "100%|██████████| 8/8 [00:15<00:00,  1.90s/it]\n"
     ]
    }
   ],
   "source": [
    "image_path = \"./annotations/phase1_averages/images/\"\n",
    "config_file = \"annotations/phase1_averages/amman_evaluation_average.yaml\"\n",
    "results = {}\n",
    "\n",
    "config = benchmark.parse_and_validate_config(config_file)\n",
    "results_st = benchmark.run_benchmark(config, None, image_path, None, jobs=4, method='student')\n",
    "results_vc = benchmark.run_benchmark(config, None, image_path, None, jobs=4, method='vote-count')"
   ]
  },
  {
   "cell_type": "code",
   "execution_count": 56,
   "metadata": {},
   "outputs": [
    {
     "data": {
      "text/plain": [
       "<matplotlib.legend.Legend at 0x12b567c50>"
      ]
     },
     "execution_count": 56,
     "metadata": {},
     "output_type": "execute_result"
    },
    {
     "data": {
      "image/png": "[encoded data removed]",
      "text/plain": [
       "<Figure size 1080x504 with 2 Axes>"
      ]
     },
     "metadata": {
      "needs_background": "light"
     },
     "output_type": "display_data"
    }
   ],
   "source": [
    "fig, axs = plt.subplots(1,2,figsize=(15,7))\n",
    "\n",
    "ax = axs[0]\n",
    "# ax.violinplot(results);\n",
    "ax.boxplot([results_vc,results_st], labels=[\"vote_count\",\"student\"], widths=[0.5]*2);\n",
    "ax.set_ylabel(\"diameter difference [mm]\")\n",
    "\n",
    "ax = axs[1]\n",
    "ax.hist([results_vc,results_st],label=[\"vote_count\",\"student\"]);\n",
    "ax.set_xlabel(\"diameter difference [mm]\")\n",
    "ax.set_ylabel(\"occurrence\");\n",
    "plt.legend()"
   ]
  },
  {
   "cell_type": "code",
   "execution_count": 59,
   "metadata": {},
   "outputs": [
    {
     "name": "stdout",
     "output_type": "stream",
     "text": [
      "mean: 1.9948979591836735 std: 9.67837240121119\n"
     ]
    }
   ],
   "source": [
    "print(\"mean:\", np.mean(results_st), \"std:\", np.std(results_st))"
   ]
  },
  {
   "cell_type": "code",
   "execution_count": 61,
   "metadata": {},
   "outputs": [
    {
     "name": "stdout",
     "output_type": "stream",
     "text": [
      "mean: -0.6017611416018739 std: 1.1095611448052085\n"
     ]
    }
   ],
   "source": [
    "print(\"mean:\", np.mean(results_vc), \"std:\", np.std(results_vc))"
   ]
  },
  {
   "cell_type": "code",
   "execution_count": null,
   "metadata": {},
   "outputs": [],
   "source": []
  }
 ],
 "metadata": {
  "kernelspec": {
   "display_name": "Python 3",
   "language": "python",
   "name": "python3"
  },
  "language_info": {
   "codemirror_mode": {
    "name": "ipython",
    "version": 3
   },
   "file_extension": ".py",
   "mimetype": "text/x-python",
   "name": "python",
   "nbconvert_exporter": "python",
   "pygments_lexer": "ipython3",
   "version": "3.6.8"
  }
 },
 "nbformat": 4,
 "nbformat_minor": 4
}
